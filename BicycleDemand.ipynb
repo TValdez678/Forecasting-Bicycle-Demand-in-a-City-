{
 "cells": [
  {
   "cell_type": "markdown",
   "id": "55c04cb4-6edf-49b6-9d42-e1304898a8ab",
   "metadata": {},
   "source": [
    "# Forecasting Bicycle Demand in a City | A short term analysis | Machine Learning"
   ]
  },
  {
   "cell_type": "markdown",
   "id": "8ee2f9c8-f148-4866-ae65-4d8caa5d7c81",
   "metadata": {},
   "source": [
    "# Step 0: My goal\n",
    "This project's goal: To predict the hourly bicycle demand in a city by using and comparing two models."
   ]
  },
  {
   "cell_type": "markdown",
   "id": "c3cb6fc1-e5cb-4daf-89b7-384a322fe020",
   "metadata": {},
   "source": [
    "# Step 1: Getting my data\n",
    "The dataset I will be using throughout this project is from Chicago's data portal from the city of Chicago's website. "
   ]
  },
  {
   "cell_type": "code",
   "execution_count": 21,
   "id": "5f651d4c-979e-4ae2-ba3b-17203f5fbd91",
   "metadata": {},
   "outputs": [
    {
     "data": {
      "text/html": [
       "<div>\n",
       "<style scoped>\n",
       "    .dataframe tbody tr th:only-of-type {\n",
       "        vertical-align: middle;\n",
       "    }\n",
       "\n",
       "    .dataframe tbody tr th {\n",
       "        vertical-align: top;\n",
       "    }\n",
       "\n",
       "    .dataframe thead th {\n",
       "        text-align: right;\n",
       "    }\n",
       "</style>\n",
       "<table border=\"1\" class=\"dataframe\">\n",
       "  <thead>\n",
       "    <tr style=\"text-align: right;\">\n",
       "      <th></th>\n",
       "      <th>TRIP ID</th>\n",
       "      <th>START TIME</th>\n",
       "      <th>STOP TIME</th>\n",
       "      <th>BIKE ID</th>\n",
       "      <th>TRIP DURATION</th>\n",
       "      <th>FROM STATION ID</th>\n",
       "      <th>FROM STATION NAME</th>\n",
       "      <th>TO STATION ID</th>\n",
       "      <th>TO STATION NAME</th>\n",
       "      <th>USER TYPE</th>\n",
       "      <th>GENDER</th>\n",
       "      <th>BIRTH YEAR</th>\n",
       "      <th>FROM LATITUDE</th>\n",
       "      <th>FROM LONGITUDE</th>\n",
       "      <th>FROM LOCATION</th>\n",
       "      <th>TO LATITUDE</th>\n",
       "      <th>TO LONGITUDE</th>\n",
       "      <th>TO LOCATION</th>\n",
       "    </tr>\n",
       "  </thead>\n",
       "  <tbody>\n",
       "    <tr>\n",
       "      <th>0</th>\n",
       "      <td>22042978</td>\n",
       "      <td>03/13/2019 11:56:40 AM</td>\n",
       "      <td>03/13/2019 12:01:49 PM</td>\n",
       "      <td>1481</td>\n",
       "      <td>309</td>\n",
       "      <td>52</td>\n",
       "      <td>Michigan Ave &amp; Lake St</td>\n",
       "      <td>100</td>\n",
       "      <td>Orleans St &amp; Merchandise Mart Plaza</td>\n",
       "      <td>Subscriber</td>\n",
       "      <td>Male</td>\n",
       "      <td>1960.0</td>\n",
       "      <td>41.886024</td>\n",
       "      <td>-87.624117</td>\n",
       "      <td>POINT (-87.624117 41.886024)</td>\n",
       "      <td>41.888243</td>\n",
       "      <td>-87.636390</td>\n",
       "      <td>POINT (-87.63639 41.888243)</td>\n",
       "    </tr>\n",
       "    <tr>\n",
       "      <th>1</th>\n",
       "      <td>22042976</td>\n",
       "      <td>03/13/2019 11:56:05 AM</td>\n",
       "      <td>03/13/2019 12:01:44 PM</td>\n",
       "      <td>5716</td>\n",
       "      <td>339</td>\n",
       "      <td>133</td>\n",
       "      <td>Kingsbury St &amp; Kinzie St</td>\n",
       "      <td>191</td>\n",
       "      <td>Canal St &amp; Monroe St (*)</td>\n",
       "      <td>Subscriber</td>\n",
       "      <td>Male</td>\n",
       "      <td>1985.0</td>\n",
       "      <td>41.889177</td>\n",
       "      <td>-87.638506</td>\n",
       "      <td>POINT (-87.6385057718 41.88917683258)</td>\n",
       "      <td>41.880381</td>\n",
       "      <td>-87.639507</td>\n",
       "      <td>POINT (-87.639507 41.880381)</td>\n",
       "    </tr>\n",
       "    <tr>\n",
       "      <th>2</th>\n",
       "      <td>22042975</td>\n",
       "      <td>03/13/2019 11:55:57 AM</td>\n",
       "      <td>03/13/2019 11:59:05 AM</td>\n",
       "      <td>3138</td>\n",
       "      <td>188</td>\n",
       "      <td>169</td>\n",
       "      <td>Canal St &amp; Harrison St</td>\n",
       "      <td>75</td>\n",
       "      <td>Canal St &amp; Jackson Blvd</td>\n",
       "      <td>Subscriber</td>\n",
       "      <td>Male</td>\n",
       "      <td>1964.0</td>\n",
       "      <td>41.874255</td>\n",
       "      <td>-87.639573</td>\n",
       "      <td>POINT (-87.639573 41.874255)</td>\n",
       "      <td>41.877245</td>\n",
       "      <td>-87.639366</td>\n",
       "      <td>POINT (-87.639366 41.877245)</td>\n",
       "    </tr>\n",
       "    <tr>\n",
       "      <th>3</th>\n",
       "      <td>22042970</td>\n",
       "      <td>03/13/2019 11:54:55 AM</td>\n",
       "      <td>03/13/2019 12:00:01 PM</td>\n",
       "      <td>1649</td>\n",
       "      <td>306</td>\n",
       "      <td>86</td>\n",
       "      <td>Eckhart Park</td>\n",
       "      <td>210</td>\n",
       "      <td>Ashland Ave &amp; Division St</td>\n",
       "      <td>Subscriber</td>\n",
       "      <td>Female</td>\n",
       "      <td>1976.0</td>\n",
       "      <td>41.896373</td>\n",
       "      <td>-87.660984</td>\n",
       "      <td>POINT (-87.66098386 41.89637337)</td>\n",
       "      <td>41.903450</td>\n",
       "      <td>-87.667747</td>\n",
       "      <td>POINT (-87.667747 41.90345)</td>\n",
       "    </tr>\n",
       "    <tr>\n",
       "      <th>4</th>\n",
       "      <td>22042969</td>\n",
       "      <td>03/13/2019 11:54:41 AM</td>\n",
       "      <td>03/13/2019 12:01:13 PM</td>\n",
       "      <td>849</td>\n",
       "      <td>392</td>\n",
       "      <td>237</td>\n",
       "      <td>MLK Jr Dr &amp; 29th St</td>\n",
       "      <td>148</td>\n",
       "      <td>State St &amp; 33rd St</td>\n",
       "      <td>Subscriber</td>\n",
       "      <td>Female</td>\n",
       "      <td>1995.0</td>\n",
       "      <td>41.842052</td>\n",
       "      <td>-87.617000</td>\n",
       "      <td>POINT (-87.617 41.842052)</td>\n",
       "      <td>41.834734</td>\n",
       "      <td>-87.625813</td>\n",
       "      <td>POINT (-87.625813 41.834734)</td>\n",
       "    </tr>\n",
       "  </tbody>\n",
       "</table>\n",
       "</div>"
      ],
      "text/plain": [
       "    TRIP ID              START TIME               STOP TIME  BIKE ID  \\\n",
       "0  22042978  03/13/2019 11:56:40 AM  03/13/2019 12:01:49 PM     1481   \n",
       "1  22042976  03/13/2019 11:56:05 AM  03/13/2019 12:01:44 PM     5716   \n",
       "2  22042975  03/13/2019 11:55:57 AM  03/13/2019 11:59:05 AM     3138   \n",
       "3  22042970  03/13/2019 11:54:55 AM  03/13/2019 12:00:01 PM     1649   \n",
       "4  22042969  03/13/2019 11:54:41 AM  03/13/2019 12:01:13 PM      849   \n",
       "\n",
       "  TRIP DURATION  FROM STATION ID         FROM STATION NAME  TO STATION ID  \\\n",
       "0           309               52    Michigan Ave & Lake St            100   \n",
       "1           339              133  Kingsbury St & Kinzie St            191   \n",
       "2           188              169    Canal St & Harrison St             75   \n",
       "3           306               86              Eckhart Park            210   \n",
       "4           392              237       MLK Jr Dr & 29th St            148   \n",
       "\n",
       "                       TO STATION NAME   USER TYPE  GENDER  BIRTH YEAR  \\\n",
       "0  Orleans St & Merchandise Mart Plaza  Subscriber    Male      1960.0   \n",
       "1             Canal St & Monroe St (*)  Subscriber    Male      1985.0   \n",
       "2              Canal St & Jackson Blvd  Subscriber    Male      1964.0   \n",
       "3            Ashland Ave & Division St  Subscriber  Female      1976.0   \n",
       "4                   State St & 33rd St  Subscriber  Female      1995.0   \n",
       "\n",
       "   FROM LATITUDE  FROM LONGITUDE                          FROM LOCATION  \\\n",
       "0      41.886024      -87.624117           POINT (-87.624117 41.886024)   \n",
       "1      41.889177      -87.638506  POINT (-87.6385057718 41.88917683258)   \n",
       "2      41.874255      -87.639573           POINT (-87.639573 41.874255)   \n",
       "3      41.896373      -87.660984       POINT (-87.66098386 41.89637337)   \n",
       "4      41.842052      -87.617000              POINT (-87.617 41.842052)   \n",
       "\n",
       "   TO LATITUDE  TO LONGITUDE                   TO LOCATION  \n",
       "0    41.888243    -87.636390   POINT (-87.63639 41.888243)  \n",
       "1    41.880381    -87.639507  POINT (-87.639507 41.880381)  \n",
       "2    41.877245    -87.639366  POINT (-87.639366 41.877245)  \n",
       "3    41.903450    -87.667747   POINT (-87.667747 41.90345)  \n",
       "4    41.834734    -87.625813  POINT (-87.625813 41.834734)  "
      ]
     },
     "execution_count": 21,
     "metadata": {},
     "output_type": "execute_result"
    }
   ],
   "source": [
    "# For data handling\n",
    "import pandas as pd                             \n",
    "# For visualization\n",
    "import matplotlib.pyplot as plt           \n",
    "# For machine learning\n",
    "from sklearn.model_selection import train_test_split          \n",
    "from sklearn.ensemble import RandomForestRegressor            \n",
    "from sklearn.metrics import mean_absolute_error, mean_squared_error  \n",
    "\n",
    "df = pd.read_csv('CSV_Files/BikeTrips_fixed.csv') \n",
    "df.head()"
   ]
  },
  {
   "cell_type": "markdown",
   "id": "ad9ae36c-a910-4722-a14f-2be21ce5859c",
   "metadata": {},
   "source": [
    "# Step 2: Data Cleaning & Preparation\n"
   ]
  },
  {
   "cell_type": "code",
   "execution_count": 22,
   "id": "e4cb6a22-a591-4555-a18f-6984ac597290",
   "metadata": {},
   "outputs": [
    {
     "data": {
      "text/html": [
       "<div>\n",
       "<style scoped>\n",
       "    .dataframe tbody tr th:only-of-type {\n",
       "        vertical-align: middle;\n",
       "    }\n",
       "\n",
       "    .dataframe tbody tr th {\n",
       "        vertical-align: top;\n",
       "    }\n",
       "\n",
       "    .dataframe thead th {\n",
       "        text-align: right;\n",
       "    }\n",
       "</style>\n",
       "<table border=\"1\" class=\"dataframe\">\n",
       "  <thead>\n",
       "    <tr style=\"text-align: right;\">\n",
       "      <th></th>\n",
       "      <th>TRIP ID</th>\n",
       "      <th>START TIME</th>\n",
       "      <th>STOP TIME</th>\n",
       "      <th>BIKE ID</th>\n",
       "      <th>TRIP DURATION</th>\n",
       "      <th>FROM STATION ID</th>\n",
       "      <th>FROM STATION NAME</th>\n",
       "      <th>TO STATION ID</th>\n",
       "      <th>TO STATION NAME</th>\n",
       "      <th>USER TYPE</th>\n",
       "      <th>GENDER</th>\n",
       "      <th>BIRTH YEAR</th>\n",
       "      <th>FROM LATITUDE</th>\n",
       "      <th>FROM LONGITUDE</th>\n",
       "      <th>FROM LOCATION</th>\n",
       "      <th>TO LATITUDE</th>\n",
       "      <th>TO LONGITUDE</th>\n",
       "      <th>TO LOCATION</th>\n",
       "      <th>HOUR</th>\n",
       "    </tr>\n",
       "  </thead>\n",
       "  <tbody>\n",
       "    <tr>\n",
       "      <th>0</th>\n",
       "      <td>22042978</td>\n",
       "      <td>2019-03-13 11:56:40</td>\n",
       "      <td>2019-03-13 12:01:49</td>\n",
       "      <td>1481</td>\n",
       "      <td>309.0</td>\n",
       "      <td>52</td>\n",
       "      <td>Michigan Ave &amp; Lake St</td>\n",
       "      <td>100</td>\n",
       "      <td>Orleans St &amp; Merchandise Mart Plaza</td>\n",
       "      <td>Subscriber</td>\n",
       "      <td>Male</td>\n",
       "      <td>1960.0</td>\n",
       "      <td>41.886024</td>\n",
       "      <td>-87.624117</td>\n",
       "      <td>POINT (-87.624117 41.886024)</td>\n",
       "      <td>41.888243</td>\n",
       "      <td>-87.636390</td>\n",
       "      <td>POINT (-87.63639 41.888243)</td>\n",
       "      <td>11</td>\n",
       "    </tr>\n",
       "    <tr>\n",
       "      <th>1</th>\n",
       "      <td>22042976</td>\n",
       "      <td>2019-03-13 11:56:05</td>\n",
       "      <td>2019-03-13 12:01:44</td>\n",
       "      <td>5716</td>\n",
       "      <td>339.0</td>\n",
       "      <td>133</td>\n",
       "      <td>Kingsbury St &amp; Kinzie St</td>\n",
       "      <td>191</td>\n",
       "      <td>Canal St &amp; Monroe St (*)</td>\n",
       "      <td>Subscriber</td>\n",
       "      <td>Male</td>\n",
       "      <td>1985.0</td>\n",
       "      <td>41.889177</td>\n",
       "      <td>-87.638506</td>\n",
       "      <td>POINT (-87.6385057718 41.88917683258)</td>\n",
       "      <td>41.880381</td>\n",
       "      <td>-87.639507</td>\n",
       "      <td>POINT (-87.639507 41.880381)</td>\n",
       "      <td>11</td>\n",
       "    </tr>\n",
       "    <tr>\n",
       "      <th>2</th>\n",
       "      <td>22042975</td>\n",
       "      <td>2019-03-13 11:55:57</td>\n",
       "      <td>2019-03-13 11:59:05</td>\n",
       "      <td>3138</td>\n",
       "      <td>188.0</td>\n",
       "      <td>169</td>\n",
       "      <td>Canal St &amp; Harrison St</td>\n",
       "      <td>75</td>\n",
       "      <td>Canal St &amp; Jackson Blvd</td>\n",
       "      <td>Subscriber</td>\n",
       "      <td>Male</td>\n",
       "      <td>1964.0</td>\n",
       "      <td>41.874255</td>\n",
       "      <td>-87.639573</td>\n",
       "      <td>POINT (-87.639573 41.874255)</td>\n",
       "      <td>41.877245</td>\n",
       "      <td>-87.639366</td>\n",
       "      <td>POINT (-87.639366 41.877245)</td>\n",
       "      <td>11</td>\n",
       "    </tr>\n",
       "    <tr>\n",
       "      <th>3</th>\n",
       "      <td>22042970</td>\n",
       "      <td>2019-03-13 11:54:55</td>\n",
       "      <td>2019-03-13 12:00:01</td>\n",
       "      <td>1649</td>\n",
       "      <td>306.0</td>\n",
       "      <td>86</td>\n",
       "      <td>Eckhart Park</td>\n",
       "      <td>210</td>\n",
       "      <td>Ashland Ave &amp; Division St</td>\n",
       "      <td>Subscriber</td>\n",
       "      <td>Female</td>\n",
       "      <td>1976.0</td>\n",
       "      <td>41.896373</td>\n",
       "      <td>-87.660984</td>\n",
       "      <td>POINT (-87.66098386 41.89637337)</td>\n",
       "      <td>41.903450</td>\n",
       "      <td>-87.667747</td>\n",
       "      <td>POINT (-87.667747 41.90345)</td>\n",
       "      <td>11</td>\n",
       "    </tr>\n",
       "    <tr>\n",
       "      <th>4</th>\n",
       "      <td>22042969</td>\n",
       "      <td>2019-03-13 11:54:41</td>\n",
       "      <td>2019-03-13 12:01:13</td>\n",
       "      <td>849</td>\n",
       "      <td>392.0</td>\n",
       "      <td>237</td>\n",
       "      <td>MLK Jr Dr &amp; 29th St</td>\n",
       "      <td>148</td>\n",
       "      <td>State St &amp; 33rd St</td>\n",
       "      <td>Subscriber</td>\n",
       "      <td>Female</td>\n",
       "      <td>1995.0</td>\n",
       "      <td>41.842052</td>\n",
       "      <td>-87.617000</td>\n",
       "      <td>POINT (-87.617 41.842052)</td>\n",
       "      <td>41.834734</td>\n",
       "      <td>-87.625813</td>\n",
       "      <td>POINT (-87.625813 41.834734)</td>\n",
       "      <td>11</td>\n",
       "    </tr>\n",
       "  </tbody>\n",
       "</table>\n",
       "</div>"
      ],
      "text/plain": [
       "    TRIP ID          START TIME           STOP TIME  BIKE ID  TRIP DURATION  \\\n",
       "0  22042978 2019-03-13 11:56:40 2019-03-13 12:01:49     1481          309.0   \n",
       "1  22042976 2019-03-13 11:56:05 2019-03-13 12:01:44     5716          339.0   \n",
       "2  22042975 2019-03-13 11:55:57 2019-03-13 11:59:05     3138          188.0   \n",
       "3  22042970 2019-03-13 11:54:55 2019-03-13 12:00:01     1649          306.0   \n",
       "4  22042969 2019-03-13 11:54:41 2019-03-13 12:01:13      849          392.0   \n",
       "\n",
       "   FROM STATION ID         FROM STATION NAME  TO STATION ID  \\\n",
       "0               52    Michigan Ave & Lake St            100   \n",
       "1              133  Kingsbury St & Kinzie St            191   \n",
       "2              169    Canal St & Harrison St             75   \n",
       "3               86              Eckhart Park            210   \n",
       "4              237       MLK Jr Dr & 29th St            148   \n",
       "\n",
       "                       TO STATION NAME   USER TYPE  GENDER  BIRTH YEAR  \\\n",
       "0  Orleans St & Merchandise Mart Plaza  Subscriber    Male      1960.0   \n",
       "1             Canal St & Monroe St (*)  Subscriber    Male      1985.0   \n",
       "2              Canal St & Jackson Blvd  Subscriber    Male      1964.0   \n",
       "3            Ashland Ave & Division St  Subscriber  Female      1976.0   \n",
       "4                   State St & 33rd St  Subscriber  Female      1995.0   \n",
       "\n",
       "   FROM LATITUDE  FROM LONGITUDE                          FROM LOCATION  \\\n",
       "0      41.886024      -87.624117           POINT (-87.624117 41.886024)   \n",
       "1      41.889177      -87.638506  POINT (-87.6385057718 41.88917683258)   \n",
       "2      41.874255      -87.639573           POINT (-87.639573 41.874255)   \n",
       "3      41.896373      -87.660984       POINT (-87.66098386 41.89637337)   \n",
       "4      41.842052      -87.617000              POINT (-87.617 41.842052)   \n",
       "\n",
       "   TO LATITUDE  TO LONGITUDE                   TO LOCATION  HOUR  \n",
       "0    41.888243    -87.636390   POINT (-87.63639 41.888243)    11  \n",
       "1    41.880381    -87.639507  POINT (-87.639507 41.880381)    11  \n",
       "2    41.877245    -87.639366  POINT (-87.639366 41.877245)    11  \n",
       "3    41.903450    -87.667747   POINT (-87.667747 41.90345)    11  \n",
       "4    41.834734    -87.625813  POINT (-87.625813 41.834734)    11  "
      ]
     },
     "execution_count": 22,
     "metadata": {},
     "output_type": "execute_result"
    }
   ],
   "source": [
    "# User demographics are not relevant to this project.\n",
    "df.drop(columns=['GENDER', 'BIRTH YEAR']) \n",
    "\n",
    "# Converting to standardized datetime for less ambiguity.\n",
    "df['START TIME'] = pd.to_datetime(df['START TIME']) \n",
    "df['STOP TIME'] = pd.to_datetime(df['STOP TIME']) \n",
    "\n",
    " # Removing trips that don't make sense, such as starting and ending at the same place.\n",
    "df = df[df['FROM STATION ID'] != df['TO STATION ID']]\n",
    "df = df[df['FROM STATION NAME'] != df['TO STATION NAME']]\n",
    "\n",
    "# Handling commas\n",
    "df['TRIP DURATION'] = df['TRIP DURATION'].astype(str).str.replace(',', '').astype(float)\n",
    "\n",
    "# Removing trips less than 20 seconds or more than 24 hours, which also don't make sense.\n",
    "df['TRIP DURATION'] = pd.to_numeric(df['TRIP DURATION'])\n",
    "max_duration = 60 * 60 * 24\n",
    "min_duration = 10\n",
    "df = df[(df['TRIP DURATION'] > min_duration) & (df['TRIP DURATION'] < max_duration)] \n",
    "\n",
    "# Feature engineering\n",
    "df['HOUR'] = df['START TIME'].dt.hour\n",
    "\n",
    "# Cleaning station names to have no trailing spaces\n",
    "df['FROM STATION NAME'].str.strip()\n",
    "df['TO STATION NAME'].str.strip()\n",
    "\n",
    "# Saving cleaned data\n",
    "df.to_csv('CleanedBikeTrips.csv', index=False)\n",
    "df.head()"
   ]
  },
  {
   "cell_type": "markdown",
   "id": "6bb7314f-680c-4d41-8ed6-45601d0341ee",
   "metadata": {},
   "source": [
    "# Step 3: Exploratory Data Analysis"
   ]
  },
  {
   "cell_type": "markdown",
   "id": "936f12ff-fada-42b6-b421-9cc6cf1fe8a7",
   "metadata": {},
   "source": [
    "Bar plot (Average rides per hour\n",
    "):"
   ]
  },
  {
   "cell_type": "code",
   "execution_count": 23,
   "id": "a58f1796-831e-4722-bafa-70397a35e266",
   "metadata": {},
   "outputs": [],
   "source": [
    "df['START TIME'] = pd.to_datetime(df['START TIME'])"
   ]
  },
  {
   "cell_type": "code",
   "execution_count": 24,
   "id": "b4b589d7-db10-40f8-8b26-32052fe280fa",
   "metadata": {},
   "outputs": [
    {
     "data": {
      "text/plain": [
       "Text(0, 0.5, 'Rides')"
      ]
     },
     "execution_count": 24,
     "metadata": {},
     "output_type": "execute_result"
    },
    {
     "data": {
      "image/png": "[encoded data removed]",
      "text/plain": [
       "<Figure size 1000x400 with 1 Axes>"
      ]
     },
     "metadata": {},
     "output_type": "display_data"
    }
   ],
   "source": [
    "hourly_average = df.groupby('HOUR').size()\n",
    "\n",
    "plt.figure(figsize=(10, 4))\n",
    "hourly_average.plot(kind='bar', color='green')\n",
    "plt.title('Average Rides for each Hour of day')\n",
    "plt.xlabel('Hour (0-23)')\n",
    "plt.ylabel('Rides')"
   ]
  },
  {
   "cell_type": "markdown",
   "id": "f7bc07f5-7099-44f6-a824-6a0cc164b638",
   "metadata": {},
   "source": [
    "**Insights**: \n",
    "I noticed that the average of rides spikes up at 8AM, only to spike up once again at 5PM; This seems to be a reasonable conclusion to make due to a 9-5 being a typical time frame for a career, however the bar plot shows that 9AM has about only half of the rides 8AM has. Perhaps 9 hour shifts are common in this area?"
   ]
  },
  {
   "cell_type": "markdown",
   "id": "19dc9f58-5ef2-481f-baa4-304e25ed2cf8",
   "metadata": {},
   "source": [
    "# Step 4: Feature engineering"
   ]
  },
  {
   "cell_type": "code",
   "execution_count": 25,
   "id": "fdf4d484-548f-4849-8192-00a1196650e8",
   "metadata": {},
   "outputs": [],
   "source": [
    "def add_features(df):\n",
    "\n",
    "    # Counting rides per hour.\n",
    "    hourly_rides = df.resample('H', on='START TIME').size().reset_index(name='RIDES')\n",
    "    \n",
    "    df = df.copy()\n",
    "    \n",
    "    # Time feature, although this code is a repeat because I showed it earlier; I just thought it'd fit in here.\n",
    "    hourly_rides['HOUR'] = df['START TIME'].dt.hour\n",
    "    \n",
    "    # Rush hour feature; Numbers are based on observations on the bar plot.\n",
    "    hourly_rides['IS_RUSH_HOUR'] = df['HOUR'].isin([7, 8, 16, 17]).astype(int)\n",
    "    \n",
    "    # Replacing missing values.\n",
    "    df.fillna(0, inplace=True)\n",
    "    \n",
    "    # Lag features.\n",
    "    hourly_rides['RIDE LAGS 1'] = hourly_rides['RIDES'].shift(1) # Uses rides from last hour to predict next hour.\n",
    "    hourly_rides['RIDE LAGS 24'] = hourly_rides['RIDES'].shift(24) # Uses rides from the same hour yesterday to predict today.\n",
    "    \n",
    "    # Rolling averages - Averaging rides over the last 3 hours.\n",
    "    hourly_rides['ROLLING AVGS'] = hourly_rides['RIDES'].rolling(3, min_periods=1).mean()\n",
    "    \n",
    "    return hourly_rides\n",
    "\n",
    "hourly_rides = add_features(df)\n",
    "\n",
    "# Drop rows with NaNs caused by lag/rolling features\n",
    "hourly_rides = hourly_rides.dropna()\n",
    "\n",
    "# Define features X and target y for RandomForest model\n",
    "feature_columns = ['HOUR', 'IS_RUSH_HOUR', 'RIDE LAGS 1', 'RIDE LAGS 24', 'ROLLING AVGS']\n",
    "X = hourly_rides[feature_columns]\n",
    "y = hourly_rides['RIDES']"
   ]
  },
  {
   "cell_type": "markdown",
   "id": "993e2e75-087c-4a40-babf-fdfe19104261",
   "metadata": {},
   "source": [
    "# Step 5: Train/Test split"
   ]
  },
  {
   "cell_type": "code",
   "execution_count": 26,
   "id": "3bdcaed9-d545-453b-87d4-162de7c0b582",
   "metadata": {},
   "outputs": [],
   "source": [
    "# Chronological order\n",
    "hourly_rides = hourly_rides.sort_values('START TIME')\n",
    "\n",
    "# Train/Test\n",
    "split_time = hourly_rides['START TIME'].iloc[-48] # Last 48 hours for testing\n",
    "train = hourly_rides[hourly_rides['START TIME'] < split_time] # Trains all rows before split time.\n",
    "test = hourly_rides[hourly_rides['START TIME'] >= split_time] # Tests all rows after split time."
   ]
  },
  {
   "cell_type": "markdown",
   "id": "f61ef087-9b8e-4ec0-9ede-46c2bb8e9350",
   "metadata": {},
   "source": [
    "# Step 6A – Model Selection (Prophet)\n",
    "I'm going to start with **Prophet**, which works best for time patterns, and after that, **RandomForest** for my engineered features."
   ]
  },
  {
   "cell_type": "code",
   "execution_count": 27,
   "id": "056f6ddf-57bf-41c1-bdb3-76f00eaf4ca1",
   "metadata": {},
   "outputs": [],
   "source": [
    "# Converting training data.\n",
    "prophet_train = train.reset_index()[['START TIME', 'RIDES']].rename(columns={'START TIME': 'ds', 'RIDES': 'y'})\n",
    "\n",
    "# Adding engineered features as regressors.\n",
    "prophet_train['IS_RUSH_HOUR'] = train['IS_RUSH_HOUR'].values\n",
    "prophet_train['HOUR'] = train['HOUR'].values"
   ]
  },
  {
   "cell_type": "markdown",
   "id": "f3237c10-1050-4bc4-996a-98713d3357bd",
   "metadata": {},
   "source": [
    "**Initializing and fitting the model**:"
   ]
  },
  {
   "cell_type": "code",
   "execution_count": 28,
   "id": "07e585fc-e255-4e97-8080-2165c4314743",
   "metadata": {},
   "outputs": [
    {
     "name": "stdout",
     "output_type": "stream",
     "text": [
      "Defaulting to user installation because normal site-packages is not writeable\n",
      "Looking in links: /usr/share/pip-wheels\n",
      "Requirement already satisfied: prophet in ./.local/lib/python3.10/site-packages (1.1.7)\n",
      "Requirement already satisfied: cmdstanpy>=1.0.4 in ./.local/lib/python3.10/site-packages (from prophet) (1.2.5)\n",
      "Requirement already satisfied: numpy>=1.15.4 in /opt/conda/envs/anaconda-ai-2024.04-py310/lib/python3.10/site-packages (from prophet) (1.26.4)\n",
      "Requirement already satisfied: matplotlib>=2.0.0 in /opt/conda/envs/anaconda-ai-2024.04-py310/lib/python3.10/site-packages (from prophet) (3.8.0)\n",
      "Requirement already satisfied: pandas>=1.0.4 in /opt/conda/envs/anaconda-ai-2024.04-py310/lib/python3.10/site-packages (from prophet) (2.1.4)\n",
      "Requirement already satisfied: holidays<1,>=0.25 in ./.local/lib/python3.10/site-packages (from prophet) (0.78)\n",
      "Requirement already satisfied: tqdm>=4.36.1 in /opt/conda/envs/anaconda-ai-2024.04-py310/lib/python3.10/site-packages (from prophet) (4.65.0)\n",
      "Requirement already satisfied: importlib_resources in /opt/conda/envs/anaconda-ai-2024.04-py310/lib/python3.10/site-packages (from prophet) (6.4.0)\n",
      "Requirement already satisfied: stanio<2.0.0,>=0.4.0 in ./.local/lib/python3.10/site-packages (from cmdstanpy>=1.0.4->prophet) (0.5.1)\n",
      "Requirement already satisfied: python-dateutil in /opt/conda/envs/anaconda-ai-2024.04-py310/lib/python3.10/site-packages (from holidays<1,>=0.25->prophet) (2.8.2)\n",
      "Requirement already satisfied: contourpy>=1.0.1 in /opt/conda/envs/anaconda-ai-2024.04-py310/lib/python3.10/site-packages (from matplotlib>=2.0.0->prophet) (1.2.0)\n",
      "Requirement already satisfied: cycler>=0.10 in /opt/conda/envs/anaconda-ai-2024.04-py310/lib/python3.10/site-packages (from matplotlib>=2.0.0->prophet) (0.11.0)\n",
      "Requirement already satisfied: fonttools>=4.22.0 in /opt/conda/envs/anaconda-ai-2024.04-py310/lib/python3.10/site-packages (from matplotlib>=2.0.0->prophet) (4.25.0)\n",
      "Requirement already satisfied: kiwisolver>=1.0.1 in /opt/conda/envs/anaconda-ai-2024.04-py310/lib/python3.10/site-packages (from matplotlib>=2.0.0->prophet) (1.4.4)\n",
      "Requirement already satisfied: packaging>=20.0 in /opt/conda/envs/anaconda-ai-2024.04-py310/lib/python3.10/site-packages (from matplotlib>=2.0.0->prophet) (23.2)\n",
      "Requirement already satisfied: pillow>=6.2.0 in /opt/conda/envs/anaconda-ai-2024.04-py310/lib/python3.10/site-packages (from matplotlib>=2.0.0->prophet) (10.2.0)\n",
      "Requirement already satisfied: pyparsing>=2.3.1 in /opt/conda/envs/anaconda-ai-2024.04-py310/lib/python3.10/site-packages (from matplotlib>=2.0.0->prophet) (3.0.9)\n",
      "Requirement already satisfied: pytz>=2020.1 in /opt/conda/envs/anaconda-ai-2024.04-py310/lib/python3.10/site-packages (from pandas>=1.0.4->prophet) (2023.3.post1)\n",
      "Requirement already satisfied: tzdata>=2022.1 in /opt/conda/envs/anaconda-ai-2024.04-py310/lib/python3.10/site-packages (from pandas>=1.0.4->prophet) (2023.3)\n",
      "Requirement already satisfied: six>=1.5 in /opt/conda/envs/anaconda-ai-2024.04-py310/lib/python3.10/site-packages (from python-dateutil->holidays<1,>=0.25->prophet) (1.16.0)\n"
     ]
    },
    {
     "name": "stderr",
     "output_type": "stream",
     "text": [
      "08:32:56 - cmdstanpy - INFO - Chain [1] start processing\n",
      "08:32:56 - cmdstanpy - INFO - Chain [1] done processing\n"
     ]
    },
    {
     "data": {
      "text/plain": [
       "<prophet.forecaster.Prophet at 0x7f3b2f0d1780>"
      ]
     },
     "execution_count": 28,
     "metadata": {},
     "output_type": "execute_result"
    }
   ],
   "source": [
    "!pip install prophet\n",
    "from prophet import Prophet\n",
    "\n",
    "# Replace NaNs with 0\n",
    "prophet_train['HOUR'] = prophet_train['HOUR'].fillna(0)  \n",
    "\n",
    "# Also check the IS_RUSH_HOUR column for NaNs\n",
    "if 'IS_RUSH_HOUR' in prophet_train.columns:\n",
    "    prophet_train['IS_RUSH_HOUR'] = prophet_train['IS_RUSH_HOUR'].fillna(0)\n",
    "\n",
    "model = Prophet(\n",
    "    daily_seasonality=True,  # To capture hourly patterns\n",
    "    weekly_seasonality=False,  # Disabling weekly as I only have 6 days\n",
    "    yearly_seasonality=False,  # Disabling yearly for the same reason\n",
    "    changepoint_prior_scale=0.1  # Reducing flexibility for small datasets\n",
    ")\n",
    "\n",
    "# Adding my regressors \n",
    "model.add_regressor('HOUR')\n",
    "model.add_regressor('IS_RUSH_HOUR')\n",
    "\n",
    "# Fitting the model\n",
    "model.fit(prophet_train)"
   ]
  },
  {
   "cell_type": "markdown",
   "id": "1c1d7e4d-f3ab-4285-bf7d-a22da8f62825",
   "metadata": {},
   "source": [
    "**Creating future dataframe**:"
   ]
  },
  {
   "cell_type": "code",
   "execution_count": 29,
   "id": "8d2af666-5003-422a-8739-7fc8f2acaf21",
   "metadata": {},
   "outputs": [],
   "source": [
    "# Generating future timestamps.\n",
    "future = test.reset_index()[['START TIME']].rename(columns={'START TIME': 'ds'})\n",
    "\n",
    "# Adding regressors to future data.\n",
    "future['IS_RUSH_HOUR'] = test['IS_RUSH_HOUR'].values\n",
    "future['HOUR'] = test['HOUR'].values\n",
    "\n",
    "# Making predictions with Prophet.\n",
    "forecast = model.predict(future)\n",
    "forecasted_values_prophet = forecast['yhat'].values"
   ]
  },
  {
   "cell_type": "code",
   "execution_count": 30,
   "id": "0a201401-4a80-40d2-a1fc-7aff48124fc6",
   "metadata": {},
   "outputs": [
    {
     "data": {
      "text/plain": [
       "Text(0.5, 1.0, 'Prophet Predictions vs Actual')"
      ]
     },
     "execution_count": 30,
     "metadata": {},
     "output_type": "execute_result"
    },
    {
     "data": {
      "image/png": "[encoded data removed]",
      "text/plain": [
       "<Figure size 1200x500 with 1 Axes>"
      ]
     },
     "metadata": {},
     "output_type": "display_data"
    }
   ],
   "source": [
    "# Prophet predictions vs actual \n",
    "import matplotlib.pyplot as plt\n",
    "plt.figure(figsize=(12, 5))\n",
    "plt.plot(test['START TIME'], test['RIDES'], label='Actual') # Plotting the true bike demand\n",
    "plt.plot(test['START TIME'], forecasted_values_prophet, label='Prophet', linestyle='--') # Plotting prophet's predicted values\n",
    "plt.xlabel('Time')\n",
    "plt.ylabel('Number of Rides')\n",
    "plt.legend()\n",
    "plt.title(\"Prophet Predictions vs Actual\") "
   ]
  },
  {
   "cell_type": "markdown",
   "id": "725cd759-ef56-4e8b-a240-5ec5e5fc8046",
   "metadata": {},
   "source": [
    "**Prophet Residual Errors**:"
   ]
  },
  {
   "cell_type": "code",
   "execution_count": 31,
   "id": "b429bed4-dbcc-43b1-98be-72798bfe62da",
   "metadata": {},
   "outputs": [
    {
     "data": {
      "text/plain": [
       "44.60691940051609"
      ]
     },
     "execution_count": 31,
     "metadata": {},
     "output_type": "execute_result"
    }
   ],
   "source": [
    "# Residuals = actual - predicted\n",
    "prophet_residuals = test['RIDES'] - forecasted_values_prophet\n",
    "prophet_residuals.mean()"
   ]
  },
  {
   "cell_type": "markdown",
   "id": "bad0c6bb-6acd-4bb3-a9a5-9f4d89078cfc",
   "metadata": {},
   "source": [
    "The mean of the residuals is positive, meaning that Prophet **underpredicts** on average. We can see this on the graph too."
   ]
  },
  {
   "cell_type": "markdown",
   "id": "91ee0efb-df6d-4aed-9dc0-2d9ac2a501f3",
   "metadata": {},
   "source": [
    "# Step 6B – Model Selection (RandomForest)¶\n",
    "**Train/Test split pt.2**"
   ]
  },
  {
   "cell_type": "code",
   "execution_count": 32,
   "id": "003995d2-e2c7-4703-ae92-99ffa99a70f8",
   "metadata": {},
   "outputs": [],
   "source": [
    "split_time = hourly_rides['START TIME'].iloc[-48] # Last 48 hours for testing\n",
    "\n",
    "train = hourly_rides[hourly_rides['START TIME'] < split_time] # Trains all rows before split time.\n",
    "test = hourly_rides[hourly_rides['START TIME'] >= split_time] # Trains all rows after split time.\n",
    "\n",
    "X_train = train[feature_columns] # Training features: input variables for the model\n",
    "y_train = train['RIDES'] # Training target: what we want the model to predict\n",
    "X_test = test[feature_columns] # Testing features: input variables the model hasn't seen\n",
    "y_test = test['RIDES'] # Testing target: actual values to compare predictions against"
   ]
  },
  {
   "cell_type": "markdown",
   "id": "111c0991-7717-4a7c-a29e-61df79d8deaf",
   "metadata": {},
   "source": [
    "**Initializing and fitting the model**:"
   ]
  },
  {
   "cell_type": "code",
   "execution_count": 33,
   "id": "1c76bb34-f75c-40aa-bfca-1c6914cf1082",
   "metadata": {},
   "outputs": [],
   "source": [
    "from sklearn.ensemble import RandomForestRegressor\n",
    "\n",
    "# Initialize the model\n",
    "randomforest = RandomForestRegressor(n_estimators=100, random_state=42)\n",
    "\n",
    "# Fitting the model\n",
    "randomforest.fit(X_train, y_train)\n",
    "\n",
    "forecasted_values_rf = randomforest.predict(X_test)"
   ]
  },
  {
   "cell_type": "code",
   "execution_count": 34,
   "id": "044cd8c0-c04e-4ab6-a57c-336066f33972",
   "metadata": {},
   "outputs": [
    {
     "data": {
      "image/png": "[encoded data removed]",
      "text/plain": [
       "<Figure size 1200x500 with 1 Axes>"
      ]
     },
     "metadata": {},
     "output_type": "display_data"
    }
   ],
   "source": [
    "# RandomFores predictions vs actual \n",
    "plt.figure(figsize=(12, 5))\n",
    "plt.plot(test['START TIME'], y_test, label='Actual') # Plotting the true bike demand\n",
    "plt.plot(test['START TIME'], forecasted_values_rf, label='Predicted Rides', linestyle='--') # Plotting Random Forest's predicted values\n",
    "plt.xlabel('Time')\n",
    "plt.ylabel('Number of Rides')\n",
    "plt.legend()\n",
    "plt.title(\"RandomForest Predictions vs Actual\") \n",
    "plt.show()"
   ]
  },
  {
   "cell_type": "markdown",
   "id": "f02dd74b-edd4-4567-a1cc-f20b8bb163f4",
   "metadata": {},
   "source": [
    "**RandomForest Residual Errors**:"
   ]
  },
  {
   "cell_type": "code",
   "execution_count": 35,
   "id": "9e15c67c-76ce-409e-895f-2ceadc158405",
   "metadata": {},
   "outputs": [
    {
     "data": {
      "text/plain": [
       "59.40083333333334"
      ]
     },
     "execution_count": 35,
     "metadata": {},
     "output_type": "execute_result"
    }
   ],
   "source": [
    "rf_residuals = y_test - forecasted_values_rf\n",
    "rf_residuals.mean()"
   ]
  },
  {
   "cell_type": "markdown",
   "id": "5e9df121-353c-4c68-b0c5-5fd9a413caa2",
   "metadata": {},
   "source": [
    "The mean of the residuals is positive, meaning that Prophet **underpredicts** on average. However, both visually and by the numerical result, it isn't as inaccurate as Prophet's residual mean."
   ]
  },
  {
   "cell_type": "markdown",
   "id": "2b19d818-e6f7-4356-b73c-8c7dbdb4fadc",
   "metadata": {},
   "source": [
    "# Step 8 – Project conclusion"
   ]
  },
  {
   "cell_type": "markdown",
   "id": "52ff0a9e-d968-44bb-b692-9dc53b774df0",
   "metadata": {},
   "source": [
    "**Evaluating performances of both models, starting with Prophet:**"
   ]
  },
  {
   "cell_type": "code",
   "execution_count": 36,
   "id": "1e5831a5-aab0-48fd-9657-04387fb1a358",
   "metadata": {},
   "outputs": [
    {
     "name": "stdout",
     "output_type": "stream",
     "text": [
      "RMSE: 232.8\n",
      "MAE: 148.6\n"
     ]
    }
   ],
   "source": [
    "PROPHET_RMSE = mean_squared_error(test['RIDES'], forecasted_values_prophet, squared=False)\n",
    "PROPHET_MAE = mean_absolute_error(test['RIDES'], forecasted_values_prophet)\n",
    "\n",
    "print(f\"RMSE: {PROPHET_RMSE:.1f}\")\n",
    "print(f\"MAE: {PROPHET_MAE:.1f}\")"
   ]
  },
  {
   "cell_type": "markdown",
   "id": "77bb1bbf-c833-493d-b22e-f4ecc1f95ec2",
   "metadata": {},
   "source": [
    "MAE: On average, my predictions were 148.6 rides off from the actual hourly demand.\n",
    "\n",
    "RMSE: On average, my errors were about 232.8 rides, with larger mistakes weighted more heavily.\n",
    "\n",
    "**Key Insight**: Because RMSE > MAE, the gap between MAE and RMSE suggests I have some hours with very large prediction errors."
   ]
  },
  {
   "cell_type": "markdown",
   "id": "e9ddedaf-c2e2-432c-b570-6223d34030c8",
   "metadata": {},
   "source": [
    "**RandomForest**:"
   ]
  },
  {
   "cell_type": "code",
   "execution_count": 37,
   "id": "0becfac8-1a93-4621-aba6-0826975d3f38",
   "metadata": {},
   "outputs": [
    {
     "name": "stdout",
     "output_type": "stream",
     "text": [
      "RMSE: 183.9\n",
      "MAE: 102.6\n"
     ]
    }
   ],
   "source": [
    "forecasted_values_rf = randomforest.predict(X_test)\n",
    "\n",
    "RF_RMSE = mean_squared_error(y_test, forecasted_values_rf, squared=False)\n",
    "RF_MAE = mean_absolute_error(y_test, forecasted_values_rf)\n",
    "\n",
    "print(f\"RMSE: {RF_RMSE:.1f}\") # 1f means one decimal place.\n",
    "print(f\"MAE: {RF_MAE:.1f}\")"
   ]
  },
  {
   "cell_type": "markdown",
   "id": "31d53782-796c-4c2d-abc0-269f1a6dce47",
   "metadata": {},
   "source": [
    "MAE: On average, my predictions were 102.6 rides off from the actual hourly demand.\n",
    "\n",
    "RMSE: On average, my errors were about 183.9 rides, with larger mistakes weighted more heavily.\n",
    "\n",
    "**Key Insight**: Because RMSE > MAE, the gap between MAE and RMSE suggests I have some hours with somewhat large prediction errors, though the error is not as large as it is with the Prophet model."
   ]
  },
  {
   "cell_type": "markdown",
   "id": "4a44389f-98e8-4b0b-a995-f979f596820f",
   "metadata": {},
   "source": [
    "Evidently, the more accurate model ended up being RandomForest. As previously stated, the difference in MAE and RMSE was smaller with RandomForest. The visualizations also proved RandomForest's predictions of bicycle demand to more closely resemble the trends of the original dataset as well."
   ]
  },
  {
   "cell_type": "markdown",
   "id": "c12c55e4-deda-4e80-a889-2e245cc017b9",
   "metadata": {},
   "source": [
    "# Summary:"
   ]
  },
  {
   "cell_type": "markdown",
   "id": "02daadb7-1b15-4f0f-9020-7b35eec81d94",
   "metadata": {},
   "source": [
    "The goal of this project was to predict the hourly bicycle demand in the city of Chicago by using and comparing two models. I used a dataset from Chicago's official website that contained hourly bike rental data. Based on the mean absolute errors between both models, with Prophet being 148.6, and RandomForest being 102.6, RandomForest outperformed Prophet by:"
   ]
  },
  {
   "cell_type": "code",
   "execution_count": 38,
   "id": "359fdca3-7ac0-465b-8c84-0cdd0a53e066",
   "metadata": {},
   "outputs": [
    {
     "data": {
      "text/plain": [
       "30.94093181061665"
      ]
     },
     "execution_count": 38,
     "metadata": {},
     "output_type": "execute_result"
    }
   ],
   "source": [
    "improvement_percentage = ((PROPHET_MAE - RF_MAE) / PROPHET_MAE) * 100\n",
    "improvement_percentage"
   ]
  },
  {
   "cell_type": "markdown",
   "id": "6858ed4d-6870-4536-a668-c2b538abe849",
   "metadata": {},
   "source": [
    "About 31%. This difference in result may be because of the fact that RandomForest works with engineered features, emphasizing the importance of using them in terms of prediction-related projects. Also, Prophet is known to rely on seasonality, so I was only able to apply seasonality for days; It was a big limitation for Prophet in that I couldn't work with weeks or months. For smaller datasets like this, it seems that using engineered features and working with RandomForest is a better choice overall for more accurate predictions. Visual analysis from earlier also further confirmed RandomForest's superiority.\n",
    "\n",
    "Throughout this experience, I gained hands-on-experience with learning how how to clean data, feature engineer, train/test split and utilize machine learning algorithms (Prophet and RandomForest) in order to make predictions and to find out which worked better for this specific project. As a result, I am proud to say that I have solidified my foundational understanding of the essence of applied machine learning."
   ]
  },
  {
   "cell_type": "code",
   "execution_count": null,
   "id": "2dc6530b-1ec7-4357-9198-321dcb06a8a2",
   "metadata": {},
   "outputs": [],
   "source": []
  },
  {
   "cell_type": "code",
   "execution_count": null,
   "id": "04f43852-d873-4a0e-8131-601986984a7b",
   "metadata": {},
   "outputs": [],
   "source": []
  }
 ],
 "metadata": {
  "kernelspec": {
   "display_name": "anaconda-ai-2024.04-py310",
   "language": "python",
   "name": "conda-env-anaconda-ai-2024.04-py310-py"
  },
  "language_info": {
   "codemirror_mode": {
    "name": "ipython",
    "version": 3
   },
   "file_extension": ".py",
   "mimetype": "text/x-python",
   "name": "python",
   "nbconvert_exporter": "python",
   "pygments_lexer": "ipython3",
   "version": "3.10.13"
  }
 },
 "nbformat": 4,
 "nbformat_minor": 5
}
